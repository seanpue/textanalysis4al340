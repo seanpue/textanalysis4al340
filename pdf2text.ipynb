{
 "metadata": {
  "name": "",
  "signature": "sha256:7a0764488ab91d3f18a90e8cf1d447eda552159b7ce5b9e311378c0dbbfb5837"
 },
 "nbformat": 3,
 "nbformat_minor": 0,
 "worksheets": [
  {
   "cells": [
    {
     "cell_type": "code",
     "collapsed": false,
     "input": [
      "import PyPDF2"
     ],
     "language": "python",
     "metadata": {},
     "outputs": [],
     "prompt_number": 1
    },
    {
     "cell_type": "code",
     "collapsed": false,
     "input": [],
     "language": "python",
     "metadata": {},
     "outputs": [],
     "prompt_number": 1
    },
    {
     "cell_type": "code",
     "collapsed": false,
     "input": [
      "# Here let's download a PDF.\n",
      "\n",
      "import urllib2 # this is a library to download files\n",
      "\n",
      "text_urls = ['http://spartanhistory.kora.matrix.msu.edu/files/1/4/1-4-F20-54-s0753_1937_1938.pdf',\n",
      "             'http://spartanhistory.kora.matrix.msu.edu/files/1/4/1-4-F21-54-S0753_1938_1939.pdf',\n",
      "             'http://spartanhistory.kora.matrix.msu.edu/files/1/4/1-4-F22-54-s0753_1940_1941.pdf']\n",
      "\n",
      "texts = {} # here we will store the raw PDF data\n"
     ],
     "language": "python",
     "metadata": {},
     "outputs": [],
     "prompt_number": 2
    },
    {
     "cell_type": "code",
     "collapsed": false,
     "input": [
      "# A new command range \u2014 gives set of numbers in a particular range\n",
      "range(10)"
     ],
     "language": "python",
     "metadata": {},
     "outputs": [
      {
       "metadata": {},
       "output_type": "pyout",
       "prompt_number": 3,
       "text": [
        "[0, 1, 2, 3, 4, 5, 6, 7, 8, 9]"
       ]
      }
     ],
     "prompt_number": 3
    },
    {
     "cell_type": "code",
     "collapsed": false,
     "input": [
      "def get_pages_text(pdf_file):\n",
      "    pdf = PyPDF2.PdfFileReader(pdf_file)\n",
      "    pages_text = []\n",
      "    for pn in range(pdf.numPages):\n",
      "        p = pdf.getPage(pn) \n",
      "        p_t = p.extractText()\n",
      "        pages_text.append(p_t)\n",
      "    return pages_text\n",
      "\n",
      "def download_pdfs():\n",
      "    for u in text_urls:\n",
      "        response = urllib2.urlopen(u)\n",
      "        print 'Downloading '+u+'....'\n",
      "        pdf = response.read()\n",
      "        assert pdf\n",
      "        new_name = u[-13:] # this is what we will save the fields as\n",
      "        with open('data/'+new_name,'wb') as f:\n",
      "            f.write(pdf)\n",
      "        print '  Done! Saved as data/'+new_name"
     ],
     "language": "python",
     "metadata": {},
     "outputs": [],
     "prompt_number": 4
    },
    {
     "cell_type": "code",
     "collapsed": false,
     "input": [
      "download_pdfs() # downl\n",
      "\n"
     ],
     "language": "python",
     "metadata": {},
     "outputs": [
      {
       "output_type": "stream",
       "stream": "stdout",
       "text": [
        "Downloading http://spartanhistory.kora.matrix.msu.edu/files/1/4/1-4-F20-54-s0753_1937_1938.pdf....\n",
        "  Done! Saved as data/1937_1938.pdf"
       ]
      },
      {
       "output_type": "stream",
       "stream": "stdout",
       "text": [
        "\n",
        "Downloading http://spartanhistory.kora.matrix.msu.edu/files/1/4/1-4-F21-54-S0753_1938_1939.pdf...."
       ]
      },
      {
       "output_type": "stream",
       "stream": "stdout",
       "text": [
        "\n",
        "  Done! Saved as data/1938_1939.pdf"
       ]
      },
      {
       "output_type": "stream",
       "stream": "stdout",
       "text": [
        "\n",
        "Downloading http://spartanhistory.kora.matrix.msu.edu/files/1/4/1-4-F22-54-s0753_1940_1941.pdf...."
       ]
      },
      {
       "output_type": "stream",
       "stream": "stdout",
       "text": [
        "\n",
        "  Done! Saved as data/1940_1941.pdf"
       ]
      },
      {
       "output_type": "stream",
       "stream": "stdout",
       "text": [
        "\n"
       ]
      }
     ],
     "prompt_number": 5
    },
    {
     "cell_type": "code",
     "collapsed": false,
     "input": [
      "pdf_files = ['data/'+ u[-13:] for u in text_urls]\n",
      "pdf_files"
     ],
     "language": "python",
     "metadata": {},
     "outputs": [
      {
       "metadata": {},
       "output_type": "pyout",
       "prompt_number": 6,
       "text": [
        "['data/1937_1938.pdf', 'data/1938_1939.pdf', 'data/1940_1941.pdf']"
       ]
      }
     ],
     "prompt_number": 6
    },
    {
     "cell_type": "code",
     "collapsed": false,
     "input": [
      "pdf_text = {} # save as a dictionary\n",
      "for fn in pdf_files:\n",
      "    pages =  get_pages_text(fn)\n",
      "    pdf_text[fn] = pages"
     ],
     "language": "python",
     "metadata": {},
     "outputs": [],
     "prompt_number": 7
    },
    {
     "cell_type": "code",
     "collapsed": false,
     "input": [
      "pdfs_combined = {name: ' '.join(pages) for name,pages in pdf_text.iteritems()}"
     ],
     "language": "python",
     "metadata": {},
     "outputs": [],
     "prompt_number": 8
    },
    {
     "cell_type": "code",
     "collapsed": false,
     "input": [
      "pdfs_combined.keys()"
     ],
     "language": "python",
     "metadata": {},
     "outputs": [
      {
       "metadata": {},
       "output_type": "pyout",
       "prompt_number": 9,
       "text": [
        "['data/1937_1938.pdf', 'data/1940_1941.pdf', 'data/1938_1939.pdf']"
       ]
      }
     ],
     "prompt_number": 9
    },
    {
     "cell_type": "code",
     "collapsed": false,
     "input": [
      "import codecs\n",
      "for key,value in pdfs_combined.iteritems():\n",
      "    file_name = key[:-4]+'.txt'\n",
      "    file_name = file_name.replace('data/','data/texts/')\n",
      "    print 'outputing to',file_name\n",
      "    with codecs.open(file_name,'w','utf-8') as f:\n",
      "        f.write(value)"
     ],
     "language": "python",
     "metadata": {},
     "outputs": [
      {
       "output_type": "stream",
       "stream": "stdout",
       "text": [
        "outputing to data/texts/1937_1938.txt\n",
        "outputing to data/texts/1940_1941.txt\n",
        "outputing to data/texts/1938_1939.txt\n"
       ]
      }
     ],
     "prompt_number": 10
    },
    {
     "cell_type": "code",
     "collapsed": false,
     "input": [
      "%cat data/1937_1938.txt"
     ],
     "language": "python",
     "metadata": {},
     "outputs": [
      {
       "output_type": "stream",
       "stream": "stdout",
       "text": [
        "1937 -1938 Associated Women Students MICHIGAN STATE COLLEGE  A. W. S. \u00ab\u00bb REGULATIONS FOR WOMEN\u00b7 STUDENTS AT MICHIGAN STATE COLLEGE \u00ab\u00bb 1937 -1938 Published by A. W. S.  To the women of the Class oj 1941 this handbook is' dedicated by the Associated Women Students of the College in the Spirit of gan State fellowship.  CODE We, the women students of Michigan State College, have organized ourselves into an association and have voted upon regulations which we agree shall be ministered, with the cooperation and proval of the Dean of Women, by a cil and Judiciary Board elected from our number. Our purpose is to help establish and maintain high social and moral standards at Michigan State College. To this end: 1. We will be loyal to ourselves and will be true to our word in all our ligations and in all our statements. 2. We will be loyal to others. We will be thoughtful and intelligent in our efforts to make the right things prevail. 3. We will aim toward scrupulous esty in scholarship, in our pledged word. 4. We will conduct ourselves as dividuals in such a manner that we can be truly willing to have any girl in the community adopt and imitate our ways. 3  / MEMBERS OF THE COUNCIL OFA. W. S. (-lANCY FARLEY .................................... President JUNE LYONS ................................ Vice-President BARBARA SEARS .................................. SecretcIry nEORGE ANN SHAW .......................... Treasurer MARIAN PATCH .................. Activity Chairman Elected Members SENIOR BARBARA Lu BRATTIN NANCY FARLEY DOROTHY HASSELBRING JUNE LYONS MYRTLE PATTON JUNIOR LINDA EVANS GEORGE ANN SHAW ELSIE McKIBBIN SOPHOMORE BARBARA SEARS MARION PATCH FRESHMAN VICE-PRESIDENT OF THE FRESHMAN CLASS MISS ELISABETH CONRAD Dean of Women 4  REPRESENTATIVE MEMBERS President of Pan Hellenic. Chairman of Spartan Women's League. President of Y. W. C. A. President of Mortar Board. Co-ed Editor of State News. Senior Co-ed Representative of Union Board. Freshman Counselor Chairman. President of W. A. A. Freshman Lecture Chairman. President of Tower Guard. President of Home Economics Club. JUDICIARY BOARD Vice-President of A. W. S ......... June Lyons Secretary-Representative appointed by Pan Hellenic. President of each dormitory. Representative elected by off-campus houses. Advisor.. ........................ Miss Mabel Petersen 5  / MISS ELISABETH CONRAD Dean of Women 6  Greetings and welcome to each of you as you enter Michigan State College. To each freshman girl may I say especially; welcome to Michigan State College. This campus will not seem such a tangle of paths and strange people after the first few weeks. Do not fail to come in often to this office, which is maintained chiefly to meet your needs and help make your college years successful. There are so many of you this year that you must look me up, because I cannot you unless you make it possible for me to do so. Miss Petersen and I, in this office, may be able to suggest ways to find the answers to your perplexing questions. Won't you come in early and see us? Some of you new students this fall are transferring from other colleges with vanced standing. Our upperclass students are friendly and will be helpful with social suggestions, but because they are not always informed on the latest college riculum requirements, it is safer in such cases to consult your advisor or some one in my office promptly, even for casual formation. You as Sophomores and Juniors must start at once to find friends, adopt our ways, and learn to meet the requirements for success in order to become contributing . members in this college which you have. chosen and which we want you to help us build. Cordially, ELISABETH CONRAD, Dean of Women. 7  NANCY B. FARLEY President, A. W. S. 8  Welcome, new women students, to the Michigan State College campus! In behalf of the Associated Women dents, may I wish you a happy ment to your new surroundings. This justment is a challenge to you. Something which you yourself must make, but may we offer our assistance? In order that you may quickly become acquainted with our customs, traditions, and your part in the student government at Michigan State College, the college offers you a Big Sister, an Orientation Program, and also you have a housemother at your dormitory or rooming house. Your A. W. S. handbook is a guide to a rapid assimilation of our requirements. Use it! If at any time it is not clear, we are always at hand to interpret it for you. Accept this challenge offered you! Make your years at Michigan State well rounded ones, full of new experiences, lasting friendships, interesting activities, together with the actual enjoyment of the course of study you have chosen. Above all, member, it is you yourself who must be the inspiration to acquire these things. We are here to back you and help you. Sincerely, NANCY B. FARLEY, President of A. W. S. 9  CONSTITUTION AND BY-LAWS ASSOCIATED WOMEN STUDENTS MICHIGAN STATE COLLEGE ARTICLE I NAME AND OBJECT Section 1. The name of this tion shall be the Associated Women dents of Michigan State College. Section 2. The object of this tion is to a. Further the spirit of campus operation and friendship. b. Increase the individual sense of responsibility for maintaining this spirit on the campus and to promote high standards. c. Supervise all matters pertaining to social conduct of the women students of Michigan State College. ARTICLE II MEMBERSHIP AND DUES Section 1. All undergraduate women students shall be ipso-facto members of the Associated Women Students by virtue of payment of dues at the time of tion. Section 2. Annual dues for the year 1937-38 shall be paid in three installments, collectible with other student fees at the time of payment of regular student fees. The amount of the fees is determined by student vote, subject to approval by lege authorities. 10  ARTICLE III OFFICERS Section 1. The officers of this tion shall be President, Vice-President, Secretary and Treasurer. This shall tute the Executive Board. The President and Vice-President shall have served at least one year on the council. The Predent shall be elected by the women of this campus at large from the incoming Senior Class. The Treasurer shall be a Junior. Section 2. Duties of officers: a. The President shall call and preside over all meetings. She shall have power to make all committee appointments with the approval of the executive board and to render emergency decisions subject to ratification by the executive board. She shall perform the general duties of an executive. b. The Vice-President shall assume the duties of President during her absence. She shall advise with matrons and visors of all student houses and tories. She shall preside over Judiciary Board. c. Chairman of Activities shall be in charge of card catalog and women's ity calendar. d. The Secretary shall record all utes of the meetings of the A. W. S. cil and take care of all correspondence. e. The TrE:asurer shall perform the duties that regularly pertain to this office and shall advise with the College troller. 11  ARTICLE IV ORGANIZATION Section 1. This organization is posed of A. W. S. Council and a Judiciary Board. The elected members of the A. W. S. Council shall consist of the President, four senior members, three junior members, two sophomore members, and one freshman member (Vice-President of the freshman class). The representative members shall include the President of Pan Hellenic, Chairman of Spartan Women's League, President of Y. W. C. A., President of W. A. A., President of Mo.rtar Board, Co-ed Editor of the State News, the senior Co-ed representative of the Union Board, the Freshman Counselor Chairman, President of Home Economics Club, Chairman of Freshman Le'cture, and President of Tower Guard. The Dean of Women shall be an ex-officio member. In addition there shall be a Judiciary Board of which the President of A. W. S. shall act as man. Other members shall include: retary, chosen each term (preferably an elected member of A. W. S.), a tive elected by Pan Hellenic each term, President of each Dormitory, and a resentative elected by off-campus houses at the time of election of dormitory officers. A representative from the Office of the Dean of Women and the President of A. W. S. are ex-officio members. Section 2. The Election of Council bers. The election shall take place at ter term all-college elections. Nominations 12  for members of the Associated Women Students' Council shall be made by the preceding Greater Council and Judiciary Board. Lists composed of twice the number of proposed candidates shall be presented to A. W. S. Executive Board to check for eligibility. Individual candidates may be presented by petition with the signatures of not less than twenty women students. Section 3. In case of absence for one term or ineligibility of any elected ber, candidates having the next highest vote in winter elections shall be declared to fill the vacancy. ARTICLE V MEETINGS Section 1. The A. W. S. Council shall meet on alternate Tuesdays at 7:00 P. M.; the Judiciary Board shall meet at 5:00 P. M. every Tuesday; the Execcutive Board shall meet at the call of the President. Section 2. Three unexcused absences from meeting shall constitute grounds for the recall of the elected member tions shall be assessed 50 cents for each meeting at which they are not represented). Alternates may substiute for the tory and organization representatives. Section 3. a. The delegates to the A. W. S. Conventions shall be the Elect and one other delegate, and upon their return they shall present a report in writing at the first meeting of the A. W. S. Council. b. The Council shall hold an annual 13  meeting which will be the last time the new and old Council meet together. At this time the Secretary, Treasurer, and Chairman of the Judiciary Board shall read their reports of the year's work. The ports of the other officers shall be placed on file in the customary manner. Section 4. Installation of new officers shall take place in a public ceremony on Lantern night. Section 5. Officers of A. W. S. ana elected house Presidents shall take exarhinations from their predecessors covering subect matter pertaining to their duties. ARTICLE VI Section 1. The duties of A. W. S. cil shall be: a. The ordering of the disbursement of all funds. b. To prepare the final list of nominees for A. W. S. Council membership. c. This Council shall formulate and further such policies and plans as shall be of all-campus social and general est to women stUdents. All campus projects may be presented to this group for sideration by joint committees or others wishing cooperation for women's zations. Section 2. The duties of the Judiciary Board shall be: a. To hear and judge disciplinary cases and consider judiciary matters. Serious 14  cases have right to appeal to A. W. S. Council. b. To have jurisdiction over house rules. c. To interpret A. W. S. rules. d, To supervise and verify the hou\u00a3e reports. ARTICLE VII Amendments may be made to the stitution by a majority count of the votes cast by women students of the College ing at spring elections. The proposed amendments must be presented to the women students by the Council in advance of election date. HOUSE CONSTITUTION 1. Organization. College dormitories shall have a House Council and such other officers and committees .as may be deemed necessary. Each organized house shall have a president, quiet proctors, fire tain and necessary officers and committees. 2. Officers. a. The House Council for all college dormitories shall consist of a president chosen from the entire dormitory, sentatives from each floor and such other house officers as may be desired. b. There shall be at least three nees for president, upperclass girls, who have been in residence in this house not less than one term, and whose scholastic average for each of the two preceding 15  terms has not been less than \"C\". No nominees with less than \"C\" average shall be considered for any office. Nominees for social chairmanship shall have been in residence at least one term. Complete slate must be submitted to the Judiciary Board for ratification. c. The House Council shall be charged with the execution of this Constitution and shall draw up such additional house rules and regulations as may seem necessary or advisable, and shall submit these tions to the Judiciary Board for ratification after which the House Council shall have charge of the enforcement of these proved ratifications. d. Every dormitory and sorority house shall choose a fire chief whose duties shall consist in advising with the Building and Grounds department for fire drills and taking other precautions against fire. e. Houses shall have proctors \"sible to the House Council for the ment of quiet hours. 3. Method of organization. a. The Sunday of the first week after the opening of each term a member of the Judiciary Board shall arrange for a meeting of all members of each tory. The Judiciary Board members shall take charge of the meetings when tions for fall term officers are being made and elections held. b. The names of the girls nominated shall be posted at least two days before election, which will be held the Wednes-16  day of the first week after the opening of each term. c. Dormitory officers shall be elected each term. BY-LAWS 1. Girls are required to respect rulings regarding smoking on the campus or in college buildings. 2. a. Quiet hours: 8 to 11 A. M., day to Friday inclusive; 1 to 4 P. M., Mon-. day to Friday inclusive; 8 P. M. to 6:30 A. M., Sunday to Thursday inclusive. On Friday and Saturday evenings reasonable quiet hours shall prevail after 10 P. M. On Sunday they will extend until 8:30 A. M. Telephone calls shall not be received in dormitories after 10:30 P. M. or in campus houses after 11 P. M., except in cases of emergency. b. Proctors shall enforce quiet hours. 3. Hours: A. Freshmen hours: 1. Mid-week hours: 11 o'clock sion until Friday of Freshman Week. Freshmen women are to be in their spective houses at 8 P. M. on Monday, Tuesday, Wednesday, and Thursday nights of Fall Term until scholastic reports are out. Then all who receive no unsatisfactory reports have 9 o'clock permission. Nine o'clock permission prevails Winter and Spring Terms on Monday, Tuesday, nesday, and Thursday nights. 17  2. 'Sunday: 9:30, all terms. 3. Friday: 12:30, Fall and Spring Terms; 1 :00, Winter Term. . 4. Saturday: 12:30, all terms. B. Upperclassmen hours: 1. Mid-week hours: .Monday, Tuesday, Wednesday and Thursday, 10 P. M. 2. Sunday: 10:30. 3. Friday: 12:30, Fall and Spring, 1:00, Winter Term. 4. Saturday: 12:30, all terms. (See cial senior rulings for spring term). 5. All roomers in undergraduate houses must\u00b7 keep undergraduate hours: 6. A. W. S. rules become effective as soon as girls enter college houses. At the beginning of each term, 12:30 permission will be granted until the night before la.r classes start, when all regular A and B regulations go into effect. 1. Proctors must enforce the rules of quiet hours; i. e., absolute quiet after 8 P. M. on week nights; week-end nights, reasonably quiet after 12; absolute quite after 1 :00 a. m. 2. Freshmen with a \"B\" average shall have the privilege of petitioning the cil for upper class hours for the ensuing term. 3. Out-of-town students shall live only in houses listed and approved by the Office of the Dean of Women. These students must obtain a permit from the Office of the Dean of Women for any change in address. 18  4. Senior hours during the Spring Term shall be 11 PM., except Friday and urday; Wednesday, 12 P. M. for \"Senior Parties.\" Seniors with \"C'; average uating at the end of Fall Term or Winter Term, may petition for senior privileges the preceding Spring Term. The granting of this privilege is not permitted a second time to one student. 7. All women students must register at the Office of the Dean of Women any change of address during the school year. S. Guest visiting hours in dormitories and houses shall be the same as evening hours for women students, which does not include the special permit of 11 P. M. for seniors. Calling hours shall not start fore 4 P. M., except on Saturday and Sunday, when they begin after the mid-\u00b7 day meal. 9. Women shall not go to fraternity houses or men's club rooms where an proved chaperone is not present. 10. A record shall be kept of late utes. An accumulation of fifteen late utes results in the forfeiting of one end night chosen from the following two week-ends. A second offense of this calls for automatically forfeiting of one entire week-end. Every student has the lege of petitioning to Judiciary Board for excusing of late minutes. A tardiness of more than thirty minutes must be referred to the Judiciary Board. 11. Women students leaving East Lan-19  sing during the college term will comply with the following regulations: a. The name and address of the hostess and the telephone number if possible must be recorded on the A. W. S. record sheet, as also the proposed time of return. b. Trips for out of town may take place over Friday and Saturday evenings, vided they meet with the approval of the student's family and that hours are within A. W. S. rules. (See By-Laws No. 12.) c. For absence on other than Friday or Saturday evenings, a written permit must be obtained in advance from the man of the Judiciary Board or the dent of A. W. S. or the Dean of Women's office. Freshmen must have in addition a permission from home for any over-night absences or a special out-of-town permit for upper class girls. d. Absences from a college residence for overnight visits will be regulated as follows: . a. Granted one night a term out in a Lansing or East Lansing home. b. Or two nights a term in sorority houses or dormitories. c. Or one night in a Lansing or East Lansing home and one night in a sorority house or dormitory. d. Further overnight permission must be specially granted by Judiciary Board. e. Any exception to the above regultions must be arranged for in advance with the Judiciary Board or its advisor. 20  12. A returning student unavoidably delayed for emergency reasons shall phone or telegraph her housemother mediately. Telephone charges may be versed temporarily and paid later to the College Treasurer. 13. College women planning to leave the city on automobile trips, involving more than one hour of driving, shall ceive family consent if they are starting later than 11:30 P. M. 14. College women shall return to their houses within fifteen minutes after the close of a special mid-week campus tion and directly from Lansing from a function for which late permission has been granted. LIMITATIONS The Associated Women Students have adopted a system whereby anyone woman student is limited in her participation in student activities. Under this system, the positions, offices, and other activities that a woman student may hold or engage in are divided into three distinct groups, lettered for ience, A, B, and C. Any student holding an A position may not hold any other on the campus. sible combinations in the other groups are: one Band-one C, or three C offices. Enforcement of these regulations is in the hands of a committee under A. W. S. This committee has the power to remove 21  from office any student who has exceeded the stated number of positions possible in any combination. The groupings are as follows: A positions: President of A. W. S. B Positions: Officers of A. W. S. Council. President of Y. W. C. A. President of W. A. A. President of Pan Hellenic. President of Spartan Women's League. Presidents of Social Sororities. President of Home Economics Club. Co-ed Editor of Michigan State News. Chairman of Freshmen Orientation. C Positions: President of all honorary societies. Member of the cabinet, S. W. L. Members of the Board, W. A. A. Members of the Board, Y. W. C. A. Chairman of the Freshman Counselor System. Members of the Board, Home Eco-nomics Club. Members of the A. W. S. Council. Members of the Union Board. Members of all publication staffs. Offices, held by girls, which come under Student Council rating will be rated in correlation with the above ratings. 22  FIRE REGULATIONS FOR DORMITORIES 1. Fire Captain. A fire captain for each dormitory shall be elected at the first of every term. She shall have supervision of all fire drills and be responsible to the Council. 2. Floor Aides. At least one aide for each floor of the dormitory shall be pointed by the fire captain of that tory. 3. Duties of the Fire Captain. 1. To take command in case of fire. 2. To have general supervision of all fire drills and be responsible for their efficiency. 3. To call the roll. 4: To be responsible in case of real fire for notification of the fire ment. 4. Duties of the Fire Aides: 1. In the absence of the Fire Captain of the dormitory the first aide on the first' floor takes command. 2. The aides on e'ach floor are to be responsible for the presence of everyone on their floor at drills; they must have a list of those for whom they are sponsible, and must see that they are in line, ready to go down stairs, and that 23  order is preserved during fire drills, and in case of fire. 3. Fire drills shall be called and ulations posted subject to the order of Superintendent of Buildings. 24 "
       ]
      }
     ],
     "prompt_number": 11
    },
    {
     "cell_type": "code",
     "collapsed": false,
     "input": [],
     "language": "python",
     "metadata": {},
     "outputs": []
    }
   ],
   "metadata": {}
  }
 ]
}