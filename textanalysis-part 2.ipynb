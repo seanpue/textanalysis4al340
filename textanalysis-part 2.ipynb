{
 "metadata": {
  "name": "",
  "signature": "sha256:0c7ec44073cb434bac923238222bd0c1b299b6da2a75cba8b13a1ba87a1c4280"
 },
 "nbformat": 3,
 "nbformat_minor": 0,
 "worksheets": [
  {
   "cells": [
    {
     "cell_type": "markdown",
     "metadata": {},
     "source": [
      "# Textual Analysis in Python (for DHers, etc).\n",
      "# Part Two: Natural Language Toolkit (NLTK)\n",
      "\n",
      "Author: [A. Sean Pue](http://seanpue.com)\n",
      "\n",
      "A lesson for [AL340 Digital Humanities Seminar](http://seanpue.github.io/al340) (Spring 2015)\n",
      "\n",
      "--> Double Click here to start<--"
     ]
    },
    {
     "cell_type": "markdown",
     "metadata": {},
     "source": [
      "## Welcome!\n",
      "This is an IPython Notebook. It contains numerous cells that can be of different types (Markdown, Code, Headings). This is lesson two. You may need to [install the Natural Language Toolkit](http://www.nltk.org/install.html) to begin.\n",
      "\n",
      "#### Your turn\n",
      "\n",
      "Select the cell above this one by double clicking it with your mouse.\n",
      "\n",
      "You can see that it contains text in a format called Markdown. To execute the cell,\n",
      "press `shift+enter.` To complete this tutorial (which is meant for a classroom), execute the cells and follow the instructions.\n",
      "\n"
     ]
    },
    {
     "cell_type": "markdown",
     "metadata": {},
     "source": [
      "## What is NTLK?\n",
      "\n",
      "NLTK (Natural Language Toolkit) is a software for doing natural language processing (NLP). It has quite a number of features, and it is easy to learn.\n",
      "\n",
      "We will just work with a few features in this lesson in order to learn some of the possibilities\n",
      "for computational analysis of text.\n"
     ]
    },
    {
     "cell_type": "markdown",
     "metadata": {},
     "source": [
      "Getting Started\n",
      "\n",
      "First, we will import nltk."
     ]
    },
    {
     "cell_type": "code",
     "collapsed": false,
     "input": [
      "import nltk"
     ],
     "language": "python",
     "metadata": {},
     "outputs": [],
     "prompt_number": 1
    },
    {
     "cell_type": "code",
     "collapsed": false,
     "input": [
      "#nltk; collocations; concordancing; frequency distribution; dispersion plot; pos tagging"
     ],
     "language": "python",
     "metadata": {},
     "outputs": []
    }
   ],
   "metadata": {}
  }
 ]
}