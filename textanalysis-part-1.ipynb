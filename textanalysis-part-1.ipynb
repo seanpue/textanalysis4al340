{
 "metadata": {
  "name": "",
  "signature": "sha256:61b202c707a29f93c0d4760f8ad1ef9b30c62fa0dd59efc7c06a7013d1e7706e"
 },
 "nbformat": 3,
 "nbformat_minor": 0,
 "worksheets": [
  {
   "cells": [
    {
     "cell_type": "markdown",
     "metadata": {},
     "source": [
      "# Textual Analysis in Python (for DHers, etc).\n",
      "# Part One: Basic Python\n",
      "\n",
      "Author: [A. Sean Pue](http://seanpue.com)\n",
      "\n",
      "A lesson for [AL340 Digital Humanities Seminar](http://seanpue.github.io/al340) (Spring 2015)\n",
      "\n",
      "--> Double Click here to start<--"
     ]
    },
    {
     "cell_type": "markdown",
     "metadata": {},
     "source": [
      "## Welcome!\n",
      "This is an IPython Notebook. It contains numerous cells that can be of different types (Markdown, Code, Headings).\n",
      "\n",
      "#### Your turn\n",
      "\n",
      "Select the cell above this one by double clicking it with your mouse.\n",
      "\n",
      "You can see that it contains text in a format called Markdown. To execute the cell,\n",
      "press `shift+enter.` To complete this tutorial (which is meant for a classroom), execute the cells and follow the instructions.\n"
     ]
    },
    {
     "cell_type": "markdown",
     "metadata": {},
     "source": [
      "#### Your turn\n",
      "The cell below this one is producing an error. To fix it, change the cell type to Markdown (from Code) and then execute it by pressing `shift+enter`."
     ]
    },
    {
     "cell_type": "code",
     "collapsed": false,
     "input": [
      "I am really *Markdown* but I am set as Code. Fix me!"
     ],
     "language": "python",
     "metadata": {},
     "outputs": [
      {
       "ename": "SyntaxError",
       "evalue": "invalid syntax (<ipython-input-699-8b56114245de>, line 1)",
       "output_type": "pyerr",
       "traceback": [
        "\u001b[0;36m  File \u001b[0;32m\"<ipython-input-699-8b56114245de>\"\u001b[0;36m, line \u001b[0;32m1\u001b[0m\n\u001b[0;31m    I am really *Markdown* but I am set as Code. Fix me!\u001b[0m\n\u001b[0m       ^\u001b[0m\n\u001b[0;31mSyntaxError\u001b[0m\u001b[0;31m:\u001b[0m invalid syntax\n"
       ]
      }
     ],
     "prompt_number": 699
    },
    {
     "cell_type": "markdown",
     "metadata": {},
     "source": [
      "Python in Fifteen Minutes\n",
      "-------------------------"
     ]
    },
    {
     "cell_type": "markdown",
     "metadata": {},
     "source": [
      "### Why?\n",
      "\n",
      "* Python is easy to learn\n",
      "* Python is easy to read\n",
      "* Python has lots of great tools to do things quickly"
     ]
    },
    {
     "cell_type": "markdown",
     "metadata": {},
     "source": [
      "### How?"
     ]
    },
    {
     "cell_type": "markdown",
     "metadata": {},
     "source": [
      "This will be a very quick introduction to Python. \n",
      "\n",
      "We will focus on:\n",
      "* Setting variables\n",
      "* Writing comments\n",
      "* Python and spaces\n",
      "* Outputing\n",
      "* Functions and Types\n",
      "* Basic math\n",
      "* Functions\n",
      "* Number Types\n",
      "* Testing for Equivalence\n",
      "* Testing as You Go\n",
      "* Basic text manipulation\n",
      "* Strings\n",
      "* Other Data Structures (Lists, Sets, and Dictionaries)\n",
      "* Iterating (through lists, etc.)\n",
      "* Writing Functions\n",
      "* Testing and Checking\n",
      "* Importing Modules"
     ]
    },
    {
     "cell_type": "markdown",
     "metadata": {},
     "source": [
      "### Setting Variables\n",
      "\n",
      "A **variable** is basically a labeled box that you put things in. To set a variable in Python, you use the equal sign. Let's try."
     ]
    },
    {
     "cell_type": "code",
     "collapsed": true,
     "input": [
      "X = 1\n",
      "Y=2"
     ],
     "language": "python",
     "metadata": {},
     "outputs": [],
     "prompt_number": 704
    },
    {
     "cell_type": "markdown",
     "metadata": {},
     "source": [
      "### Writing Comments\n",
      "\n",
      "You can make notes to yourself and others in Python by starting or ending a line with `#`.\n",
      "\n"
     ]
    },
    {
     "cell_type": "code",
     "collapsed": true,
     "input": [
      "# Here is an example\n",
      "X = 1\n",
      "X=1  # This line is considered less readable than the above."
     ],
     "language": "python",
     "metadata": {},
     "outputs": [],
     "prompt_number": 705
    },
    {
     "cell_type": "markdown",
     "metadata": {},
     "source": [
      "## Python and Spaces"
     ]
    },
    {
     "cell_type": "markdown",
     "metadata": {},
     "source": [
      "One of the features of Python that makes it so readable is that it \n",
      "cares very deeply about the space at the beginning of lines (indentation), so\n",
      "make sure you don't have a space at the beginning of the line.\n",
      "Otherwise, you will get an error."
     ]
    },
    {
     "cell_type": "markdown",
     "metadata": {},
     "source": [
      "#### Your Turn\n",
      "An IndentationError occurs below due to an extra space at the beginning. \n",
      "Fix it."
     ]
    },
    {
     "cell_type": "code",
     "collapsed": true,
     "input": [
      "X = 1 #This is okay\n",
      "# An IndentationError here due to the space\n",
      " X = 2"
     ],
     "language": "python",
     "metadata": {},
     "outputs": [
      {
       "ename": "IndentationError",
       "evalue": "unexpected indent (<ipython-input-706-af2283a44348>, line 3)",
       "output_type": "pyerr",
       "traceback": [
        "\u001b[0;36m  File \u001b[0;32m\"<ipython-input-706-af2283a44348>\"\u001b[0;36m, line \u001b[0;32m3\u001b[0m\n\u001b[0;31m    X = 2\u001b[0m\n\u001b[0m    ^\u001b[0m\n\u001b[0;31mIndentationError\u001b[0m\u001b[0;31m:\u001b[0m unexpected indent\n"
       ]
      }
     ],
     "prompt_number": 706
    },
    {
     "cell_type": "markdown",
     "metadata": {},
     "source": [
      "### Outputing\n",
      "\n",
      "There are different ways to output your variables and so forth.\n",
      "The IPython Notebook will output a variable or answer to an equation\n",
      "if it is the last command that is executing in the particular cell.\n"
     ]
    },
    {
     "cell_type": "code",
     "collapsed": true,
     "input": [
      "# Here, nothing is displayed because there is just a variable set.\n",
      "X=1"
     ],
     "language": "python",
     "metadata": {},
     "outputs": [],
     "prompt_number": 707
    },
    {
     "cell_type": "code",
     "collapsed": true,
     "input": [
      "# Here X is the last declaration in the cell, so X is displayed.\n",
      "X=1\n",
      "X"
     ],
     "language": "python",
     "metadata": {},
     "outputs": [
      {
       "metadata": {},
       "output_type": "pyout",
       "prompt_number": 708,
       "text": [
        "1"
       ]
      }
     ],
     "prompt_number": 708
    },
    {
     "cell_type": "code",
     "collapsed": true,
     "input": [
      "# Here we have a declaration without a variable.\n",
      "1"
     ],
     "language": "python",
     "metadata": {},
     "outputs": [
      {
       "metadata": {},
       "output_type": "pyout",
       "prompt_number": 709,
       "text": [
        "1"
       ]
      }
     ],
     "prompt_number": 709
    },
    {
     "cell_type": "markdown",
     "metadata": {},
     "source": [
      "You can also use the command `print` followed by a variable or declaration.\n"
     ]
    },
    {
     "cell_type": "code",
     "collapsed": true,
     "input": [
      "X=1\n",
      "print 1\n",
      "print X"
     ],
     "language": "python",
     "metadata": {},
     "outputs": [
      {
       "output_type": "stream",
       "stream": "stdout",
       "text": [
        "1\n",
        "1\n"
       ]
      }
     ],
     "prompt_number": 710
    },
    {
     "cell_type": "markdown",
     "metadata": {},
     "source": [
      "You can `print` multiple variables or declarations together by using a comma."
     ]
    },
    {
     "cell_type": "code",
     "collapsed": true,
     "input": [
      "print 1,1,X,X"
     ],
     "language": "python",
     "metadata": {},
     "outputs": [
      {
       "output_type": "stream",
       "stream": "stdout",
       "text": [
        "1 1 1 1\n"
       ]
      }
     ],
     "prompt_number": 711
    },
    {
     "cell_type": "markdown",
     "metadata": {},
     "source": [
      "There are also ways to output to files and so forth. You can also produce HTML within the notebook."
     ]
    },
    {
     "cell_type": "markdown",
     "metadata": {},
     "source": [
      "#### Your Turn\n",
      "\n",
      "Fill in the following 3 cells with the code you need to do the commands listed in the comments.\n"
     ]
    },
    {
     "cell_type": "code",
     "collapsed": true,
     "input": [
      "# 1. In this cell, write the code to output the number 3. Do not use print\n",
      "\n",
      "#YOURCODEHERE"
     ],
     "language": "python",
     "metadata": {},
     "outputs": [],
     "prompt_number": 712
    },
    {
     "cell_type": "code",
     "collapsed": false,
     "input": [
      "# 2. In this cell, do the same using print.\n",
      "\n",
      "#YOURCODEHERE"
     ],
     "language": "python",
     "metadata": {},
     "outputs": [],
     "prompt_number": 713
    },
    {
     "cell_type": "code",
     "collapsed": false,
     "input": [
      "# 3. Do the following\n",
      "\n",
      "# print the number 4 on its own line.\n",
      "\n",
      "#YOURCODEHERE\n",
      "\n",
      "# next, set X to 5\n",
      "\n",
      "#YOURCODEHERE\n",
      "\n",
      "# print X followed by 3\n"
     ],
     "language": "python",
     "metadata": {},
     "outputs": [],
     "prompt_number": 714
    },
    {
     "cell_type": "markdown",
     "metadata": {},
     "source": [
      "## Basic Math\n",
      "\n",
      "It's easy to do math in Python. The basic operators are +,-,/, and * for addition, subtraction, division, and multiplication.\n"
     ]
    },
    {
     "cell_type": "code",
     "collapsed": false,
     "input": [
      "1+1"
     ],
     "language": "python",
     "metadata": {},
     "outputs": [
      {
       "metadata": {},
       "output_type": "pyout",
       "prompt_number": 715,
       "text": [
        "2"
       ]
      }
     ],
     "prompt_number": 715
    },
    {
     "cell_type": "code",
     "collapsed": false,
     "input": [
      "4/2"
     ],
     "language": "python",
     "metadata": {},
     "outputs": [
      {
       "metadata": {},
       "output_type": "pyout",
       "prompt_number": 716,
       "text": [
        "2"
       ]
      }
     ],
     "prompt_number": 716
    },
    {
     "cell_type": "code",
     "collapsed": false,
     "input": [
      "5*2"
     ],
     "language": "python",
     "metadata": {},
     "outputs": [
      {
       "metadata": {},
       "output_type": "pyout",
       "prompt_number": 717,
       "text": [
        "10"
       ]
      }
     ],
     "prompt_number": 717
    },
    {
     "cell_type": "markdown",
     "metadata": {},
     "source": [
      "You can also use parentheses, e.g. `( )`, to specify the order of operations.\n"
     ]
    },
    {
     "cell_type": "code",
     "collapsed": false,
     "input": [
      "(4-1)*3"
     ],
     "language": "python",
     "metadata": {},
     "outputs": [
      {
       "metadata": {},
       "output_type": "pyout",
       "prompt_number": 718,
       "text": [
        "9"
       ]
      }
     ],
     "prompt_number": 718
    },
    {
     "cell_type": "markdown",
     "metadata": {},
     "source": [
      "You can use `+=` to add on to a number, too."
     ]
    },
    {
     "cell_type": "code",
     "collapsed": false,
     "input": [
      "X=1\n",
      "X+=1\n",
      "X"
     ],
     "language": "python",
     "metadata": {},
     "outputs": [
      {
       "metadata": {},
       "output_type": "pyout",
       "prompt_number": 719,
       "text": [
        "2"
       ]
      }
     ],
     "prompt_number": 719
    },
    {
     "cell_type": "markdown",
     "metadata": {},
     "source": [
      "#### Your turn\n",
      "\n",
      "Write code to answer the following: $777777 \\times 666666 - 2$ "
     ]
    },
    {
     "cell_type": "code",
     "collapsed": false,
     "input": [
      "# The answer you should get is 518517481480\n",
      "  \n",
      "#YOURCODEHERE"
     ],
     "language": "python",
     "metadata": {},
     "outputs": [],
     "prompt_number": 720
    },
    {
     "cell_type": "markdown",
     "metadata": {},
     "source": [
      "Now, subtract 666666 from 777777 and multiply by the result by two."
     ]
    },
    {
     "cell_type": "code",
     "collapsed": false,
     "input": [
      "# The answer you should get is 222222.\n",
      "# HINT: To do this on one line, you will need to use parentheses.\n",
      "\n",
      "#YOURCODEHERE"
     ],
     "language": "python",
     "metadata": {},
     "outputs": [],
     "prompt_number": 721
    },
    {
     "cell_type": "markdown",
     "metadata": {},
     "source": [
      "## Functions\n",
      "\n",
      "A **function** is code that when called with a particular\n",
      "input gives a particular output. In math, this takes the form:\n",
      "    \n",
      "    f(X) = 2 + X\n",
      "    f(2) = 4\n",
      "    \n",
      "Python uses a similar format.\n",
      "\n",
      "Here let's use the [built-in function](https://docs.python.org/2/library/functions.html#min)  `abs()` which gives the absolute value of a number (e.g. |-1|=1)\n"
     ]
    },
    {
     "cell_type": "code",
     "collapsed": false,
     "input": [
      "abs(-1)"
     ],
     "language": "python",
     "metadata": {},
     "outputs": [
      {
       "metadata": {},
       "output_type": "pyout",
       "prompt_number": 722,
       "text": [
        "1"
       ]
      }
     ],
     "prompt_number": 722
    },
    {
     "cell_type": "code",
     "collapsed": false,
     "input": [
      "abs(2-1) "
     ],
     "language": "python",
     "metadata": {},
     "outputs": [
      {
       "metadata": {},
       "output_type": "pyout",
       "prompt_number": 723,
       "text": [
        "1"
       ]
      }
     ],
     "prompt_number": 723
    },
    {
     "cell_type": "markdown",
     "metadata": {},
     "source": [
      "You can specify multiple inputs. Let's try another built-in function called `min`, which gives the minimum value of the numbers based to it."
     ]
    },
    {
     "cell_type": "code",
     "collapsed": false,
     "input": [
      "min(4,2,1)"
     ],
     "language": "python",
     "metadata": {},
     "outputs": [
      {
       "metadata": {},
       "output_type": "pyout",
       "prompt_number": 724,
       "text": [
        "1"
       ]
      }
     ],
     "prompt_number": 724
    },
    {
     "cell_type": "code",
     "collapsed": false,
     "input": [
      "X=0\n",
      "min(4,3,2,X)"
     ],
     "language": "python",
     "metadata": {},
     "outputs": [
      {
       "metadata": {},
       "output_type": "pyout",
       "prompt_number": 725,
       "text": [
        "0"
       ]
      }
     ],
     "prompt_number": 725
    },
    {
     "cell_type": "markdown",
     "metadata": {},
     "source": [
      "Note that you can also add to an existing number (or texts, as we will see) by using `+=`."
     ]
    },
    {
     "cell_type": "code",
     "collapsed": false,
     "input": [
      "X = 1\n",
      "X += 1\n",
      "X"
     ],
     "language": "python",
     "metadata": {},
     "outputs": [
      {
       "metadata": {},
       "output_type": "pyout",
       "prompt_number": 726,
       "text": [
        "2"
       ]
      }
     ],
     "prompt_number": 726
    },
    {
     "cell_type": "markdown",
     "metadata": {},
     "source": [
      "## Number Types"
     ]
    },
    {
     "cell_type": "markdown",
     "metadata": {},
     "source": [
      "You can find out the `type` of a variable or declaration using the function `type`. Let's try it.\n",
      "\n"
     ]
    },
    {
     "cell_type": "code",
     "collapsed": false,
     "input": [
      "type(1)"
     ],
     "language": "python",
     "metadata": {},
     "outputs": [
      {
       "metadata": {},
       "output_type": "pyout",
       "prompt_number": 727,
       "text": [
        "int"
       ]
      }
     ],
     "prompt_number": 727
    },
    {
     "cell_type": "markdown",
     "metadata": {},
     "source": [
      "There are a number of basic numeric types, including `int` and `float.`\n",
      "\n",
      "`int` is a whole number, positive or negative. To set it, you can do the following: `x=1` or `int(1)`.\n",
      "\n",
      "`float` (for floating-point number) is a more precise number and includes a decimal. To set one, you can include a decimal point in your number, e.g. `x=1.0`, or use the function `float(1)`.\n"
     ]
    },
    {
     "cell_type": "code",
     "collapsed": false,
     "input": [
      "type(1)"
     ],
     "language": "python",
     "metadata": {},
     "outputs": [
      {
       "metadata": {},
       "output_type": "pyout",
       "prompt_number": 728,
       "text": [
        "int"
       ]
      }
     ],
     "prompt_number": 728
    },
    {
     "cell_type": "code",
     "collapsed": false,
     "input": [
      "type(1.0)"
     ],
     "language": "python",
     "metadata": {},
     "outputs": [
      {
       "metadata": {},
       "output_type": "pyout",
       "prompt_number": 729,
       "text": [
        "float"
       ]
      }
     ],
     "prompt_number": 729
    },
    {
     "cell_type": "code",
     "collapsed": false,
     "input": [
      "type(2*3)"
     ],
     "language": "python",
     "metadata": {},
     "outputs": [
      {
       "metadata": {},
       "output_type": "pyout",
       "prompt_number": 730,
       "text": [
        "int"
       ]
      }
     ],
     "prompt_number": 730
    },
    {
     "cell_type": "code",
     "collapsed": false,
     "input": [
      "type(2.0*3)"
     ],
     "language": "python",
     "metadata": {},
     "outputs": [
      {
       "metadata": {},
       "output_type": "pyout",
       "prompt_number": 731,
       "text": [
        "float"
       ]
      }
     ],
     "prompt_number": 731
    },
    {
     "cell_type": "markdown",
     "metadata": {},
     "source": [
      "The distinction between `int` and `float` can be a bit of gotcha, as Python will provide an `int` answer if one of the variables is not set as a `float` (by adding a `decimal` to the declaration)."
     ]
    },
    {
     "cell_type": "markdown",
     "metadata": {},
     "source": [
      "### Your turn\n",
      "\n",
      "Adjust the following code to return .5:\n"
     ]
    },
    {
     "cell_type": "code",
     "collapsed": false,
     "input": [
      "# Fix below to return .5 (not 0). \n",
      "X = 1/2\n",
      "print X"
     ],
     "language": "python",
     "metadata": {},
     "outputs": [
      {
       "output_type": "stream",
       "stream": "stdout",
       "text": [
        "0\n"
       ]
      }
     ],
     "prompt_number": 732
    },
    {
     "cell_type": "markdown",
     "metadata": {},
     "source": [
      "## Testing for Equivalence\n",
      "\n",
      "Python has two special words, `True` and `False`, to tell the\n",
      "veracity of something, and a special type `bool` to hold that value.\n"
     ]
    },
    {
     "cell_type": "code",
     "collapsed": false,
     "input": [
      "x = True\n",
      "type(x)"
     ],
     "language": "python",
     "metadata": {},
     "outputs": [
      {
       "metadata": {},
       "output_type": "pyout",
       "prompt_number": 733,
       "text": [
        "bool"
       ]
      }
     ],
     "prompt_number": 733
    },
    {
     "cell_type": "markdown",
     "metadata": {},
     "source": [
      "You can test whether or not something equals something else using the\n",
      "operator `==`, and to see if they are not equal using `!=`. "
     ]
    },
    {
     "cell_type": "code",
     "collapsed": false,
     "input": [
      "x = 1\n",
      "x == 1"
     ],
     "language": "python",
     "metadata": {},
     "outputs": [
      {
       "metadata": {},
       "output_type": "pyout",
       "prompt_number": 734,
       "text": [
        "True"
       ]
      }
     ],
     "prompt_number": 734
    },
    {
     "cell_type": "code",
     "collapsed": false,
     "input": [
      "x = 2\n",
      "x != 1"
     ],
     "language": "python",
     "metadata": {},
     "outputs": [
      {
       "metadata": {},
       "output_type": "pyout",
       "prompt_number": 735,
       "text": [
        "True"
       ]
      }
     ],
     "prompt_number": 735
    },
    {
     "cell_type": "code",
     "collapsed": false,
     "input": [
      "type(True)"
     ],
     "language": "python",
     "metadata": {},
     "outputs": [
      {
       "metadata": {},
       "output_type": "pyout",
       "prompt_number": 736,
       "text": [
        "bool"
       ]
      }
     ],
     "prompt_number": 736
    },
    {
     "cell_type": "markdown",
     "metadata": {},
     "source": [
      "## Testing as You Go"
     ]
    },
    {
     "cell_type": "markdown",
     "metadata": {},
     "source": [
      "You can check to make sure your expectations are correct using the command\n",
      "assert, which will through an error if your assertion is not correct."
     ]
    },
    {
     "cell_type": "code",
     "collapsed": false,
     "input": [
      "x = 1\n",
      "assert x == 1 # no problem here\n",
      "assert x == 1.0 # no problem here, either\n",
      "assert type(x)==float # it's an int not a float!"
     ],
     "language": "python",
     "metadata": {},
     "outputs": [
      {
       "ename": "AssertionError",
       "evalue": "",
       "output_type": "pyerr",
       "traceback": [
        "\u001b[0;31m---------------------------------------------------------------------------\u001b[0m\n\u001b[0;31mAssertionError\u001b[0m                            Traceback (most recent call last)",
        "\u001b[0;32m<ipython-input-737-6afa4e9eee24>\u001b[0m in \u001b[0;36m<module>\u001b[0;34m()\u001b[0m\n\u001b[1;32m      2\u001b[0m \u001b[0;32massert\u001b[0m \u001b[0mx\u001b[0m \u001b[0;34m==\u001b[0m \u001b[0;36m1\u001b[0m \u001b[0;31m# no problem here\u001b[0m\u001b[0;34m\u001b[0m\u001b[0m\n\u001b[1;32m      3\u001b[0m \u001b[0;32massert\u001b[0m \u001b[0mx\u001b[0m \u001b[0;34m==\u001b[0m \u001b[0;36m1.0\u001b[0m \u001b[0;31m# no problem here, either\u001b[0m\u001b[0;34m\u001b[0m\u001b[0m\n\u001b[0;32m----> 4\u001b[0;31m \u001b[0;32massert\u001b[0m \u001b[0mtype\u001b[0m\u001b[0;34m(\u001b[0m\u001b[0mx\u001b[0m\u001b[0;34m)\u001b[0m\u001b[0;34m==\u001b[0m\u001b[0mfloat\u001b[0m \u001b[0;31m# it's an int not a float!\u001b[0m\u001b[0;34m\u001b[0m\u001b[0m\n\u001b[0m",
        "\u001b[0;31mAssertionError\u001b[0m: "
       ]
      }
     ],
     "prompt_number": 737
    },
    {
     "cell_type": "markdown",
     "metadata": {},
     "source": [
      "## Strings\n",
      "\n",
      "Python is great at manipulation strings of text, and there is a special `str` type. To designate a string,\n",
      "type text in single or double quotation marks."
     ]
    },
    {
     "cell_type": "code",
     "collapsed": false,
     "input": [
      "s = 'Hello'\n",
      "t = \"there\"\n",
      "type(s)"
     ],
     "language": "python",
     "metadata": {},
     "outputs": [
      {
       "metadata": {},
       "output_type": "pyout",
       "prompt_number": 693,
       "text": [
        "str"
       ]
      }
     ],
     "prompt_number": 693
    },
    {
     "cell_type": "markdown",
     "metadata": {},
     "source": [
      "Strings can be combined using `+`:"
     ]
    },
    {
     "cell_type": "code",
     "collapsed": false,
     "input": [
      "s + ' ' + t+ ' what\\'s your name?' # you can use \\' to put a ' inside ''s"
     ],
     "language": "python",
     "metadata": {},
     "outputs": [
      {
       "metadata": {},
       "output_type": "pyout",
       "prompt_number": 694,
       "text": [
        "\"Hello there what's your name?\""
       ]
      }
     ],
     "prompt_number": 694
    },
    {
     "cell_type": "markdown",
     "metadata": {},
     "source": [
      "To get the length of a string, use the function `len`."
     ]
    },
    {
     "cell_type": "code",
     "collapsed": false,
     "input": [
      "len('Hello')"
     ],
     "language": "python",
     "metadata": {},
     "outputs": [
      {
       "metadata": {},
       "output_type": "pyout",
       "prompt_number": 695,
       "text": [
        "5"
       ]
      }
     ],
     "prompt_number": 695
    },
    {
     "cell_type": "markdown",
     "metadata": {},
     "source": [
      "Strings also have numerous functions available to them. To use them,\n",
      "type a string variable followed by a period and then\n",
      "the function."
     ]
    },
    {
     "cell_type": "code",
     "collapsed": false,
     "input": [
      "s = 'Hello'\n",
      "print s.capitalize() # capitalizes the first letter\n",
      "print s.upper()      # capitalizes all letters\n",
      "print s.lower()     # lowercases all letters\n",
      "\n"
     ],
     "language": "python",
     "metadata": {},
     "outputs": [
      {
       "output_type": "stream",
       "stream": "stdout",
       "text": [
        "Hello\n",
        "HELLO\n",
        "hello\n"
       ]
      }
     ],
     "prompt_number": 696
    },
    {
     "cell_type": "code",
     "collapsed": false,
     "input": [
      "a = 'X'.lower() # makes the string 'X' lowercase\n",
      "b = 'x'.upper() # makes the strin g'x' uppercase\n",
      "print (a + b).upper() # joins a and b and turns them uppercase\n",
      "print (a + b).lower().upper() # does the above but then turns it uppercase "
     ],
     "language": "python",
     "metadata": {},
     "outputs": [
      {
       "output_type": "stream",
       "stream": "stdout",
       "text": [
        "XX\n",
        "XX\n"
       ]
      }
     ],
     "prompt_number": 697
    },
    {
     "cell_type": "markdown",
     "metadata": {},
     "source": [
      "You can turn a number into a string, and a string into a number \n",
      "as follows."
     ]
    },
    {
     "cell_type": "code",
     "collapsed": false,
     "input": [
      "s='1'\n",
      "i=int(s)\n",
      "f=float(s)\n",
      "print s,i,f"
     ],
     "language": "python",
     "metadata": {},
     "outputs": [
      {
       "output_type": "stream",
       "stream": "stdout",
       "text": [
        "1 1 1.0\n"
       ]
      }
     ],
     "prompt_number": 698
    },
    {
     "cell_type": "markdown",
     "metadata": {},
     "source": [
      "## Other Data Structures: Lists, Sets, and Dictionaries"
     ]
    },
    {
     "cell_type": "markdown",
     "metadata": {},
     "source": [
      "Python has a number of other data structures besides the ones we have learned (`int`,`float`,`str`,`bool`)"
     ]
    },
    {
     "cell_type": "markdown",
     "metadata": {},
     "source": [
      "Python is not \"strongly typed\" which means the `type` of your variable\n",
      "can changes, as in the following:"
     ]
    },
    {
     "cell_type": "code",
     "collapsed": false,
     "input": [
      "x = 1\n",
      "print x,type(x)\n",
      "x = 1.0\n",
      "print x,type(x)\n",
      "x = '1'\n",
      "print x,type(x)\n",
      "x = False\n",
      "print x,type(x)"
     ],
     "language": "python",
     "metadata": {},
     "outputs": [
      {
       "output_type": "stream",
       "stream": "stdout",
       "text": [
        "1 <type 'int'>\n",
        "1.0 <type 'float'>\n",
        "1 <type 'str'>\n",
        "False <type 'bool'>\n"
       ]
      }
     ],
     "prompt_number": 643
    },
    {
     "cell_type": "markdown",
     "metadata": {},
     "source": [
      "### Lists\n",
      "\n",
      "A list is a collection of different variables. The format is: \n",
      "    `[item1,item2,item3]`\n",
      "The items can be of different types. The first element of a list is at [0]. As with `str` (strings) you can get a length using `len`."
     ]
    },
    {
     "cell_type": "code",
     "collapsed": false,
     "input": [
      "my_list = ['A',1,2,3,'B'] \n",
      "print my_list\n",
      "print 'the first item is',my_list[0]\n",
      "print 'length of my_list is',len(my_list)"
     ],
     "language": "python",
     "metadata": {},
     "outputs": [
      {
       "output_type": "stream",
       "stream": "stdout",
       "text": [
        "['A', 1, 2, 3, 'B']\n",
        "the first item is A\n",
        "length of my_list is 5\n"
       ]
      }
     ],
     "prompt_number": 644
    },
    {
     "cell_type": "markdown",
     "metadata": {},
     "source": [
      "You can also select from the end of a list using a negative number, e.g. `l[-1]`, and you can select a range of items using a colon, e.g. l[0:2]"
     ]
    },
    {
     "cell_type": "code",
     "collapsed": false,
     "input": [
      "l = ['0',1,2,3,'5']\n",
      "print 'the first two items are',l[0:2] # l[start_at,end_before]\n",
      "print 'The last item is',l[-1] # use negative numbers to read from end\n",
      "print 'The first to next-to-last items are',l[0:-1]"
     ],
     "language": "python",
     "metadata": {},
     "outputs": [
      {
       "output_type": "stream",
       "stream": "stdout",
       "text": [
        "the first two items are ['0', 1]\n",
        "The last item is 5\n",
        "The first to next-to-last items are ['0', 1, 2, 3]\n"
       ]
      }
     ],
     "prompt_number": 645
    },
    {
     "cell_type": "markdown",
     "metadata": {},
     "source": [
      "#### Your turn\n",
      "\n",
      "Using the following list, select ['B','C','D']"
     ]
    },
    {
     "cell_type": "code",
     "collapsed": false,
     "input": [
      "l = ['A','B','C','D','E','F']\n",
      "\n",
      "# YOURCODEHERE"
     ],
     "language": "python",
     "metadata": {},
     "outputs": [],
     "prompt_number": 646
    },
    {
     "cell_type": "markdown",
     "metadata": {},
     "source": [
      "To append to a list use the `.append` command or `+=`"
     ]
    },
    {
     "cell_type": "code",
     "collapsed": false,
     "input": [
      "l=['A','B','C','D','E','F']\n",
      "l+='G'\n",
      "print l\n",
      "l.append('H')\n",
      "print l"
     ],
     "language": "python",
     "metadata": {},
     "outputs": [
      {
       "output_type": "stream",
       "stream": "stdout",
       "text": [
        "['A', 'B', 'C', 'D', 'E', 'F', 'G']\n",
        "['A', 'B', 'C', 'D', 'E', 'F', 'G', 'H']\n"
       ]
      }
     ],
     "prompt_number": 647
    },
    {
     "cell_type": "markdown",
     "metadata": {},
     "source": [
      "### Sets\n",
      "\n",
      "A `set` is like a `list` but it does not have any duplicates.\n",
      "To define one, use the command `set`."
     ]
    },
    {
     "cell_type": "code",
     "collapsed": false,
     "input": [
      "l = ['A','A','A','B']\n",
      "print l,type(l)\n",
      "s = set(l)\n",
      "print s,set(s)"
     ],
     "language": "python",
     "metadata": {},
     "outputs": [
      {
       "output_type": "stream",
       "stream": "stdout",
       "text": [
        "['A', 'A', 'A', 'B'] <type 'list'>\n",
        "set(['A', 'B']) set(['A', 'B'])\n"
       ]
      }
     ],
     "prompt_number": 648
    },
    {
     "cell_type": "markdown",
     "metadata": {},
     "source": [
      "### Dictionary\n",
      "\n",
      "A dictionary (`dict`)is a structure that allows you to use a key. To define one, you can use curly brackets, e.g. {'hi':'hindi','en':'urdu'}, and then access or set individual items using square brackets"
     ]
    },
    {
     "cell_type": "code",
     "collapsed": false,
     "input": [
      "langs = {}\n",
      "print langs, type(langs)\n",
      "langs['hi'] = 'Hindi'\n",
      "print langs, len(langs)  # you can get the length, too\n",
      "\n",
      "# Here is a way to set it all at once\n",
      "\n",
      "langs = {'hi': 'Hindi', 'en': 'English', 'myfavnumber': 7}\n",
      "print len(langs),langs['myfavnumber']"
     ],
     "language": "python",
     "metadata": {},
     "outputs": [
      {
       "output_type": "stream",
       "stream": "stdout",
       "text": [
        "{} <type 'dict'>\n",
        "{'hi': 'Hindi'} 1\n",
        "3 7\n"
       ]
      }
     ],
     "prompt_number": 649
    },
    {
     "cell_type": "markdown",
     "metadata": {},
     "source": [
      "To get the keys of a dictionary, use the funciton `.keys`, e.g. langs.keys()\n"
     ]
    },
    {
     "cell_type": "code",
     "collapsed": false,
     "input": [
      "\n",
      "print langs.keys()"
     ],
     "language": "python",
     "metadata": {},
     "outputs": [
      {
       "output_type": "stream",
       "stream": "stdout",
       "text": [
        "['hi', 'en', 'myfavnumber']\n"
       ]
      }
     ],
     "prompt_number": 650
    },
    {
     "cell_type": "markdown",
     "metadata": {},
     "source": [
      "### Iterating (through lists, etc.)\n",
      "\n",
      "Iterating moves going one-my-one through something. \n",
      "\n",
      "To go through every element in a list, use the `for` command as below."
     ]
    },
    {
     "cell_type": "code",
     "collapsed": false,
     "input": [
      "colors = ['red','white','blue','green']\n",
      "for x in colors:\n",
      "    print x"
     ],
     "language": "python",
     "metadata": {},
     "outputs": [
      {
       "output_type": "stream",
       "stream": "stdout",
       "text": [
        "red\n",
        "white\n",
        "blue\n",
        "green\n"
       ]
      }
     ],
     "prompt_number": 651
    },
    {
     "cell_type": "markdown",
     "metadata": {},
     "source": [
      "#### Your Turn\n",
      "\n",
      "Write code below to add 'purple' to the list of colors and then print out 'I like <color here>', e.g. 'I like blue'."
     ]
    },
    {
     "cell_type": "code",
     "collapsed": false,
     "input": [
      "colors = ['red','white','blue','green']\n",
      "\n",
      "# YOURCODEHERE"
     ],
     "language": "python",
     "metadata": {},
     "outputs": [],
     "prompt_number": 652
    },
    {
     "cell_type": "markdown",
     "metadata": {},
     "source": [
      "## Writing Functions\n",
      "\n",
      "Whenever you have a task that you need to repeat, it is usually worthwhile\n",
      "to make a function. As mentioned above, a function is code that takes an input and returns an output.\n",
      "\n",
      "In Python, you define a Python using the following pattern:\n",
      "\n",
      "```\n",
      "def my_function(): # put your input inside the ()s\n",
      "    # your code here\n",
      "    return # your output here output\n",
      "```\n",
      "Here is an example:\n",
      "```\n",
      "def add_one(x)\n",
      "    x = x + 1\n",
      "    return x\n",
      "```\n",
      "You can have multiple inputs, and the output can be whatever form you want, too. Spacing is important, as you need a standard indentation (usually 4 or 2 spaces) after the definition. That makes it easier to read.  \n",
      "\n",
      "Below is an example.\n"
     ]
    },
    {
     "cell_type": "code",
     "collapsed": false,
     "input": [
      "def add_two(x):\n",
      "    return x+2\n",
      "\n",
      "def add_three(x):\n",
      "    o = x+2\n",
      "    return o\n",
      "\n",
      "def add_five(x):\n",
      "    assert x\n",
      "    return add_two(add_three(x))\n",
      "\n",
      "y = 0\n",
      "y = add_two(y)\n",
      "print y\n",
      "y = add_three(y)\n",
      "print y\n",
      "y = add_five(y)\n",
      "print y"
     ],
     "language": "python",
     "metadata": {},
     "outputs": [
      {
       "output_type": "stream",
       "stream": "stdout",
       "text": [
        "2\n",
        "4\n",
        "8\n"
       ]
      }
     ],
     "prompt_number": 653
    },
    {
     "cell_type": "markdown",
     "metadata": {},
     "source": [
      "### Your turn\n",
      "\n",
      "Write a function named `quote_me` to add an exclamation mark to a string."
     ]
    },
    {
     "cell_type": "code",
     "collapsed": false,
     "input": [
      "# So quote_me('Hello') should output: Hello!\n",
      "def quote_me(s):\n",
      "    # YOURCODEHERE\n",
      "    return #YOURCODEHERETOO\n"
     ],
     "language": "python",
     "metadata": {},
     "outputs": [],
     "prompt_number": 654
    },
    {
     "cell_type": "markdown",
     "metadata": {},
     "source": [
      "### Importing Libraries\n",
      "\n",
      "To get extended features from Python, you need to import modules. You may need to install those modules, too. You can use the command `import`. Below we will import the module `sys`, which provides information about your system."
     ]
    },
    {
     "cell_type": "code",
     "collapsed": false,
     "input": [
      "import sys\n",
      "print sys.version # this shows your version of Python, etc."
     ],
     "language": "python",
     "metadata": {},
     "outputs": [
      {
       "output_type": "stream",
       "stream": "stdout",
       "text": [
        "2.7.9 |Anaconda 2.1.0 (x86_64)| (default, Dec 15 2014, 10:37:34) \n",
        "[GCC 4.2.1 (Apple Inc. build 5577)]\n"
       ]
      }
     ],
     "prompt_number": 655
    },
    {
     "cell_type": "markdown",
     "metadata": {},
     "source": [
      "Above, you see you can access a variable or a function by prefacing it my the name of the module. If you want to import the variable or version into the 'name space' your code so that you can access it directly, use the command `from`...`import`..."
     ]
    },
    {
     "cell_type": "code",
     "collapsed": false,
     "input": [
      "from sys import version\n",
      "print version # we no longer need the sys"
     ],
     "language": "python",
     "metadata": {},
     "outputs": [
      {
       "output_type": "stream",
       "stream": "stdout",
       "text": [
        "2.7.9 |Anaconda 2.1.0 (x86_64)| (default, Dec 15 2014, 10:37:34) \n",
        "[GCC 4.2.1 (Apple Inc. build 5577)]\n"
       ]
      }
     ],
     "prompt_number": 656
    },
    {
     "cell_type": "markdown",
     "metadata": {},
     "source": [
      "You can also import a module and give its own name using the command `import`...`as`...\n"
     ]
    },
    {
     "cell_type": "code",
     "collapsed": false,
     "input": [
      "import sys as my_own_system\n",
      "print my_own_system.version"
     ],
     "language": "python",
     "metadata": {},
     "outputs": [
      {
       "output_type": "stream",
       "stream": "stdout",
       "text": [
        "2.7.9 |Anaconda 2.1.0 (x86_64)| (default, Dec 15 2014, 10:37:34) \n",
        "[GCC 4.2.1 (Apple Inc. build 5577)]\n"
       ]
      }
     ],
     "prompt_number": 657
    },
    {
     "cell_type": "markdown",
     "metadata": {},
     "source": [
      "### Nice work!\n",
      "We're now ready in the next lesson to jump into textual analysis with Python!"
     ]
    },
    {
     "cell_type": "code",
     "collapsed": false,
     "input": [],
     "language": "python",
     "metadata": {},
     "outputs": []
    }
   ],
   "metadata": {}
  }
 ]
}